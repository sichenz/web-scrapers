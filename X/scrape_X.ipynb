{
 "cells": [
  {
   "cell_type": "markdown",
   "id": "4ac3dc48",
   "metadata": {},
   "source": [
    "**运行此代码时，请选择 Chrome，而不是 Firefox。Firefox 会导致 BUG。**"
   ]
  },
  {
   "cell_type": "code",
   "execution_count": 1,
   "id": "40ff3508",
   "metadata": {},
   "outputs": [
    {
     "data": {
      "application/vnd.jupyter.widget-view+json": {
       "model_id": "9b279c83345d4fec8c9ea49f86bcea48",
       "version_major": 2,
       "version_minor": 0
      },
      "text/plain": [
       "VBox(children=(HBox(children=(Text(value='nyushanghai', description='Twitter Username:', layout=Layout(width='…"
      ]
     },
     "metadata": {},
     "output_type": "display_data"
    },
    {
     "name": "stdout",
     "output_type": "stream",
     "text": [
      "Starting to scrape tweets from @NIOGlobal...\n"
     ]
    },
    {
     "name": "stderr",
     "output_type": "stream",
     "text": [
      "2025-02-11 21:35:39,635 - INFO - Data Successfully Saved to NIOGlobal.csv\n"
     ]
    },
    {
     "name": "stdout",
     "output_type": "stream",
     "text": [
      "Scraping completed. Data saved to /Users/princess/Documents/RA/X-scraper/NIOGlobal.csv\n",
      "Reading CSV file: /Users/princess/Documents/RA/X-scraper/NIOGlobal.csv\n",
      "Created directory: /Users/princess/Documents/RA/X-scraper/data/1347947515211964416\n",
      "Downloading image: https://pbs.twimg.com/media/ErTcb17UcAARSWx?format=jpg&name=medium as image_1.jpg\n"
     ]
    },
    {
     "name": "stderr",
     "output_type": "stream",
     "text": [
      "image_1.jpg: 100%|██████████| 138k/138k [00:00<00:00, 13.4MiB/s]\n"
     ]
    },
    {
     "name": "stdout",
     "output_type": "stream",
     "text": [
      "Successfully downloaded: /Users/princess/Documents/RA/X-scraper/data/1347947515211964416/image_1.jpg\n",
      "Created directory: /Users/princess/Documents/RA/X-scraper/data/1356166990860193801\n",
      "Downloading image: https://pbs.twimg.com/media/EtISsBxUUAAYhEd?format=jpg&name=medium as image_1.jpg\n"
     ]
    },
    {
     "name": "stderr",
     "output_type": "stream",
     "text": [
      "image_1.jpg: 100%|██████████| 58.0k/58.0k [00:00<00:00, 82.6MiB/s]\n"
     ]
    },
    {
     "name": "stdout",
     "output_type": "stream",
     "text": [
      "Successfully downloaded: /Users/princess/Documents/RA/X-scraper/data/1356166990860193801/image_1.jpg\n",
      "Created directory: /Users/princess/Documents/RA/X-scraper/data/1377548885338415107\n",
      "Downloading image: https://pbs.twimg.com/media/Ex4JDKXU8AAI6i9?format=jpg&name=medium as image_1.jpg\n"
     ]
    },
    {
     "name": "stderr",
     "output_type": "stream",
     "text": [
      "image_1.jpg: 100%|██████████| 77.5k/77.5k [00:00<00:00, 4.47MiB/s]\n"
     ]
    },
    {
     "name": "stdout",
     "output_type": "stream",
     "text": [
      "Successfully downloaded: /Users/princess/Documents/RA/X-scraper/data/1377548885338415107/image_1.jpg\n",
      "Created directory: /Users/princess/Documents/RA/X-scraper/data/1345792706589540352\n",
      "Downloading image: https://pbs.twimg.com/media/Eq03VURUUAAMpr4?format=jpg&name=900x900 as image_1.jpg\n"
     ]
    },
    {
     "name": "stderr",
     "output_type": "stream",
     "text": [
      "image_1.jpg: 100%|██████████| 44.8k/44.8k [00:00<00:00, 63.0MiB/s]\n"
     ]
    },
    {
     "name": "stdout",
     "output_type": "stream",
     "text": [
      "Successfully downloaded: /Users/princess/Documents/RA/X-scraper/data/1345792706589540352/image_1.jpg\n",
      "Created directory: /Users/princess/Documents/RA/X-scraper/data/1347564915830099968\n",
      "Downloading image: https://pbs.twimg.com/media/ErODJgJVcAAPyn4?format=jpg&name=medium as image_1.jpg\n"
     ]
    },
    {
     "name": "stderr",
     "output_type": "stream",
     "text": [
      "image_1.jpg: 100%|██████████| 138k/138k [00:00<00:00, 4.39MiB/s]\n"
     ]
    },
    {
     "name": "stdout",
     "output_type": "stream",
     "text": [
      "Successfully downloaded: /Users/princess/Documents/RA/X-scraper/data/1347564915830099968/image_1.jpg\n",
      "Created directory: /Users/princess/Documents/RA/X-scraper/data/1345947500511780865\n",
      "Downloading image: https://pbs.twimg.com/media/Eq3AapKU0AEoRwo?format=jpg&name=medium as image_1.jpg\n"
     ]
    },
    {
     "name": "stderr",
     "output_type": "stream",
     "text": [
      "image_1.jpg: 100%|██████████| 36.3k/36.3k [00:00<00:00, 6.66MiB/s]\n"
     ]
    },
    {
     "name": "stdout",
     "output_type": "stream",
     "text": [
      "Successfully downloaded: /Users/princess/Documents/RA/X-scraper/data/1345947500511780865/image_1.jpg\n",
      "Created directory: /Users/princess/Documents/RA/X-scraper/data/1351227238793023492\n",
      "Downloading image: https://pbs.twimg.com/media/EsCGAp8WMA0WrRz?format=jpg&name=medium as image_1.jpg\n"
     ]
    },
    {
     "name": "stderr",
     "output_type": "stream",
     "text": [
      "image_1.jpg: 100%|██████████| 41.8k/41.8k [00:00<00:00, 46.9MiB/s]\n"
     ]
    },
    {
     "name": "stdout",
     "output_type": "stream",
     "text": [
      "Successfully downloaded: /Users/princess/Documents/RA/X-scraper/data/1351227238793023492/image_1.jpg\n",
      "Created directory: /Users/princess/Documents/RA/X-scraper/data/1366554110174982152\n",
      "Downloading image: https://pbs.twimg.com/media/Evb5QyFVkAUVMnv?format=jpg&name=small as image_1.jpg\n"
     ]
    },
    {
     "name": "stderr",
     "output_type": "stream",
     "text": [
      "image_1.jpg: 100%|██████████| 41.7k/41.7k [00:00<00:00, 58.7MiB/s]\n"
     ]
    },
    {
     "name": "stdout",
     "output_type": "stream",
     "text": [
      "Successfully downloaded: /Users/princess/Documents/RA/X-scraper/data/1366554110174982152/image_1.jpg\n",
      "Downloading image: https://pbs.twimg.com/media/Evb5QyDVcAQGV21?format=png&name=small as image_2.jpg\n"
     ]
    },
    {
     "name": "stderr",
     "output_type": "stream",
     "text": [
      "image_2.jpg: 100%|██████████| 12.6k/12.6k [00:00<00:00, 1.71MiB/s]\n"
     ]
    },
    {
     "name": "stdout",
     "output_type": "stream",
     "text": [
      "Successfully downloaded: /Users/princess/Documents/RA/X-scraper/data/1366554110174982152/image_2.jpg\n",
      "Downloading image: https://pbs.twimg.com/media/Evb5QyEVoAEExu_?format=png&name=small as image_3.jpg\n"
     ]
    },
    {
     "name": "stderr",
     "output_type": "stream",
     "text": [
      "image_3.jpg: 100%|██████████| 13.2k/13.2k [00:00<00:00, 22.2MiB/s]\n"
     ]
    },
    {
     "name": "stdout",
     "output_type": "stream",
     "text": [
      "Successfully downloaded: /Users/princess/Documents/RA/X-scraper/data/1366554110174982152/image_3.jpg\n",
      "Downloading image: https://pbs.twimg.com/media/Evb5QyDUcAA9zgm?format=png&name=small as image_4.jpg\n"
     ]
    },
    {
     "name": "stderr",
     "output_type": "stream",
     "text": [
      "image_4.jpg: 100%|██████████| 10.8k/10.8k [00:00<00:00, 23.5MiB/s]\n"
     ]
    },
    {
     "name": "stdout",
     "output_type": "stream",
     "text": [
      "Successfully downloaded: /Users/princess/Documents/RA/X-scraper/data/1366554110174982152/image_4.jpg\n",
      "Created directory: /Users/princess/Documents/RA/X-scraper/data/1326243728533585920\n",
      "Downloading image: https://pbs.twimg.com/media/EmfDohZU0AILncy?format=jpg&name=900x900 as image_1.jpg\n"
     ]
    },
    {
     "name": "stderr",
     "output_type": "stream",
     "text": [
      "image_1.jpg: 100%|██████████| 89.6k/89.6k [00:00<00:00, 71.4MiB/s]\n"
     ]
    },
    {
     "name": "stdout",
     "output_type": "stream",
     "text": [
      "Successfully downloaded: /Users/princess/Documents/RA/X-scraper/data/1326243728533585920/image_1.jpg\n",
      "Created directory: /Users/princess/Documents/RA/X-scraper/data/1333721925432930306\n",
      "Downloading image: https://pbs.twimg.com/media/EoJTT-CUYAEH8ts?format=jpg&name=large as image_1.jpg\n"
     ]
    },
    {
     "name": "stderr",
     "output_type": "stream",
     "text": [
      "image_1.jpg: 100%|██████████| 177k/177k [00:00<00:00, 7.41MiB/s]\n"
     ]
    },
    {
     "name": "stdout",
     "output_type": "stream",
     "text": [
      "Successfully downloaded: /Users/princess/Documents/RA/X-scraper/data/1333721925432930306/image_1.jpg\n",
      "Created directory: /Users/princess/Documents/RA/X-scraper/data/1394671107932790787\n",
      "Downloading image: https://pbs.twimg.com/media/E1rd-l1VEAEj7vp?format=jpg&name=large as image_1.jpg\n"
     ]
    },
    {
     "name": "stderr",
     "output_type": "stream",
     "text": [
      "image_1.jpg: 100%|██████████| 247k/247k [00:00<00:00, 9.81MiB/s]\n"
     ]
    },
    {
     "name": "stdout",
     "output_type": "stream",
     "text": [
      "Successfully downloaded: /Users/princess/Documents/RA/X-scraper/data/1394671107932790787/image_1.jpg\n",
      "Downloading image: https://pbs.twimg.com/media/E1rd-l0VEAUna2A?format=jpg&name=small as image_2.jpg\n"
     ]
    },
    {
     "name": "stderr",
     "output_type": "stream",
     "text": [
      "image_2.jpg: 100%|██████████| 68.3k/68.3k [00:00<00:00, 21.8MiB/s]\n"
     ]
    },
    {
     "name": "stdout",
     "output_type": "stream",
     "text": [
      "Successfully downloaded: /Users/princess/Documents/RA/X-scraper/data/1394671107932790787/image_2.jpg\n",
      "Downloading image: https://pbs.twimg.com/media/E1rd-mbUYAYQpAn?format=jpg&name=small as image_3.jpg\n"
     ]
    },
    {
     "name": "stderr",
     "output_type": "stream",
     "text": [
      "image_3.jpg: 100%|██████████| 33.8k/33.8k [00:00<00:00, 36.2MiB/s]\n"
     ]
    },
    {
     "name": "stdout",
     "output_type": "stream",
     "text": [
      "Successfully downloaded: /Users/princess/Documents/RA/X-scraper/data/1394671107932790787/image_3.jpg\n",
      "Created directory: /Users/princess/Documents/RA/X-scraper/data/1470559199155290119\n",
      "Downloading image: https://pbs.twimg.com/media/FGh3AWbVgAAbB6C?format=jpg&name=medium as image_1.jpg\n"
     ]
    },
    {
     "name": "stderr",
     "output_type": "stream",
     "text": [
      "image_1.jpg: 100%|██████████| 24.9k/24.9k [00:00<00:00, 43.8MiB/s]\n"
     ]
    },
    {
     "name": "stdout",
     "output_type": "stream",
     "text": [
      "Successfully downloaded: /Users/princess/Documents/RA/X-scraper/data/1470559199155290119/image_1.jpg\n",
      "Created directory: /Users/princess/Documents/RA/X-scraper/data/1387674181139976193\n",
      "Downloading image: https://pbs.twimg.com/media/E0ICTAKUcAIBwpR?format=jpg&name=small as image_1.jpg\n"
     ]
    },
    {
     "name": "stderr",
     "output_type": "stream",
     "text": [
      "image_1.jpg: 100%|██████████| 34.1k/34.1k [00:00<00:00, 49.6MiB/s]\n"
     ]
    },
    {
     "name": "stdout",
     "output_type": "stream",
     "text": [
      "Successfully downloaded: /Users/princess/Documents/RA/X-scraper/data/1387674181139976193/image_1.jpg\n",
      "Downloading image: https://pbs.twimg.com/media/E0ICTAMVEAYqxII?format=jpg&name=small as image_2.jpg\n"
     ]
    },
    {
     "name": "stderr",
     "output_type": "stream",
     "text": [
      "image_2.jpg: 100%|██████████| 49.2k/49.2k [00:00<00:00, 22.4MiB/s]\n"
     ]
    },
    {
     "name": "stdout",
     "output_type": "stream",
     "text": [
      "Successfully downloaded: /Users/princess/Documents/RA/X-scraper/data/1387674181139976193/image_2.jpg\n",
      "Downloading image: https://pbs.twimg.com/media/E0ICTAKUUAsWYUy?format=jpg&name=small as image_3.jpg\n"
     ]
    },
    {
     "name": "stderr",
     "output_type": "stream",
     "text": [
      "image_3.jpg: 100%|██████████| 80.8k/80.8k [00:00<00:00, 83.8MiB/s]\n"
     ]
    },
    {
     "name": "stdout",
     "output_type": "stream",
     "text": [
      "Successfully downloaded: /Users/princess/Documents/RA/X-scraper/data/1387674181139976193/image_3.jpg\n",
      "Downloading image: https://pbs.twimg.com/media/E0ICTALVgAEwOiA?format=jpg&name=small as image_4.jpg\n"
     ]
    },
    {
     "name": "stderr",
     "output_type": "stream",
     "text": [
      "image_4.jpg: 100%|██████████| 63.0k/63.0k [00:00<00:00, 69.4MiB/s]\n"
     ]
    },
    {
     "name": "stdout",
     "output_type": "stream",
     "text": [
      "Successfully downloaded: /Users/princess/Documents/RA/X-scraper/data/1387674181139976193/image_4.jpg\n",
      "Created directory: /Users/princess/Documents/RA/X-scraper/data/1344678702622232579\n",
      "Downloading image: https://pbs.twimg.com/media/EqgdfTBVEAADbtC?format=jpg&name=medium as image_1.jpg\n"
     ]
    },
    {
     "name": "stderr",
     "output_type": "stream",
     "text": [
      "image_1.jpg: 100%|██████████| 47.3k/47.3k [00:00<00:00, 20.1MiB/s]\n"
     ]
    },
    {
     "name": "stdout",
     "output_type": "stream",
     "text": [
      "Successfully downloaded: /Users/princess/Documents/RA/X-scraper/data/1344678702622232579/image_1.jpg\n",
      "Created directory: /Users/princess/Documents/RA/X-scraper/data/1346268326511529984\n",
      "Downloading image: https://pbs.twimg.com/media/Eq7n1laVkAIS1eN?format=jpg&name=medium as image_1.jpg\n"
     ]
    },
    {
     "name": "stderr",
     "output_type": "stream",
     "text": [
      "image_1.jpg: 100%|██████████| 90.1k/90.1k [00:00<00:00, 106MiB/s]\n"
     ]
    },
    {
     "name": "stdout",
     "output_type": "stream",
     "text": [
      "Successfully downloaded: /Users/princess/Documents/RA/X-scraper/data/1346268326511529984/image_1.jpg\n",
      "Created directory: /Users/princess/Documents/RA/X-scraper/data/1410527173404815367\n",
      "Downloading image: https://pbs.twimg.com/media/E5MxO0gUUAE5vi7?format=jpg&name=medium as image_1.jpg\n"
     ]
    },
    {
     "name": "stderr",
     "output_type": "stream",
     "text": [
      "image_1.jpg: 100%|██████████| 107k/107k [00:00<00:00, 13.3MiB/s]\n"
     ]
    },
    {
     "name": "stdout",
     "output_type": "stream",
     "text": [
      "Successfully downloaded: /Users/princess/Documents/RA/X-scraper/data/1410527173404815367/image_1.jpg\n",
      "Created directory: /Users/princess/Documents/RA/X-scraper/data/1382569582892707843\n",
      "Downloading image: https://pbs.twimg.com/media/Ey_XkAvUUAcBfyj?format=jpg&name=small as image_1.jpg\n"
     ]
    },
    {
     "name": "stderr",
     "output_type": "stream",
     "text": [
      "image_1.jpg: 100%|██████████| 57.5k/57.5k [00:00<00:00, 5.04MiB/s]\n"
     ]
    },
    {
     "name": "stdout",
     "output_type": "stream",
     "text": [
      "Successfully downloaded: /Users/princess/Documents/RA/X-scraper/data/1382569582892707843/image_1.jpg\n",
      "Downloading image: https://pbs.twimg.com/media/Ey_XkAwUcAA5ovy?format=jpg&name=small as image_2.jpg\n"
     ]
    },
    {
     "name": "stderr",
     "output_type": "stream",
     "text": [
      "image_2.jpg: 100%|██████████| 75.8k/75.8k [00:00<00:00, 47.8MiB/s]\n"
     ]
    },
    {
     "name": "stdout",
     "output_type": "stream",
     "text": [
      "Successfully downloaded: /Users/princess/Documents/RA/X-scraper/data/1382569582892707843/image_2.jpg\n",
      "Downloading image: https://pbs.twimg.com/media/Ey_XkAwVcAQWmKw?format=jpg&name=small as image_3.jpg\n"
     ]
    },
    {
     "name": "stderr",
     "output_type": "stream",
     "text": [
      "image_3.jpg: 100%|██████████| 70.9k/70.9k [00:00<00:00, 92.3MiB/s]\n"
     ]
    },
    {
     "name": "stdout",
     "output_type": "stream",
     "text": [
      "Successfully downloaded: /Users/princess/Documents/RA/X-scraper/data/1382569582892707843/image_3.jpg\n",
      "Downloading image: https://pbs.twimg.com/media/Ey_XkAuVgAAejxY?format=jpg&name=small as image_4.jpg\n"
     ]
    },
    {
     "name": "stderr",
     "output_type": "stream",
     "text": [
      "image_4.jpg: 100%|██████████| 70.0k/70.0k [00:00<00:00, 73.5MiB/s]\n"
     ]
    },
    {
     "name": "stdout",
     "output_type": "stream",
     "text": [
      "Successfully downloaded: /Users/princess/Documents/RA/X-scraper/data/1382569582892707843/image_4.jpg\n",
      "Created directory: /Users/princess/Documents/RA/X-scraper/data/1348630746055917569\n",
      "Downloading image: https://pbs.twimg.com/media/EralZ-RVEAEnOvM?format=jpg&name=medium as image_1.jpg\n"
     ]
    },
    {
     "name": "stderr",
     "output_type": "stream",
     "text": [
      "image_1.jpg: 100%|██████████| 119k/119k [00:00<00:00, 21.9MiB/s]\n"
     ]
    },
    {
     "name": "stdout",
     "output_type": "stream",
     "text": [
      "Successfully downloaded: /Users/princess/Documents/RA/X-scraper/data/1348630746055917569/image_1.jpg\n",
      "Created directory: /Users/princess/Documents/RA/X-scraper/data/1347603331493974016\n",
      "Downloading image: https://pbs.twimg.com/ext_tw_video_thumb/1347603307141898240/pu/img/vuilivmu75moNIbG.jpg as image_1.jpg\n"
     ]
    },
    {
     "name": "stderr",
     "output_type": "stream",
     "text": [
      "image_1.jpg: 100%|██████████| 36.8k/36.8k [00:00<00:00, 59.3MiB/s]\n"
     ]
    },
    {
     "name": "stdout",
     "output_type": "stream",
     "text": [
      "Successfully downloaded: /Users/princess/Documents/RA/X-scraper/data/1347603331493974016/image_1.jpg\n",
      "Created directory: /Users/princess/Documents/RA/X-scraper/data/1443817509300228096\n",
      "Downloading image: https://pbs.twimg.com/media/FAl4HkbVUAUpzzH?format=jpg&name=medium as image_1.jpg\n"
     ]
    },
    {
     "name": "stderr",
     "output_type": "stream",
     "text": [
      "image_1.jpg: 100%|██████████| 114k/114k [00:00<00:00, 438kiB/s] \n"
     ]
    },
    {
     "name": "stdout",
     "output_type": "stream",
     "text": [
      "Successfully downloaded: /Users/princess/Documents/RA/X-scraper/data/1443817509300228096/image_1.jpg\n",
      "Created directory: /Users/princess/Documents/RA/X-scraper/data/1348181275153031168\n",
      "Downloading image: https://pbs.twimg.com/ext_tw_video_thumb/1348146787865960448/pu/img/8XFE-705gFD_u-Zd.jpg as image_1.jpg\n"
     ]
    },
    {
     "name": "stderr",
     "output_type": "stream",
     "text": [
      "image_1.jpg: 100%|██████████| 15.6k/15.6k [00:00<00:00, 31.8MiB/s]\n"
     ]
    },
    {
     "name": "stdout",
     "output_type": "stream",
     "text": [
      "Successfully downloaded: /Users/princess/Documents/RA/X-scraper/data/1348181275153031168/image_1.jpg\n",
      "Created directory: /Users/princess/Documents/RA/X-scraper/data/1347800798646833154\n",
      "Downloading image: https://pbs.twimg.com/ext_tw_video_thumb/1347800452813897732/pu/img/75MyxU1CEuB7kr8t.jpg as image_1.jpg\n"
     ]
    },
    {
     "name": "stderr",
     "output_type": "stream",
     "text": [
      "image_1.jpg: 100%|██████████| 180k/180k [00:00<00:00, 3.78MiB/s]\n"
     ]
    },
    {
     "name": "stdout",
     "output_type": "stream",
     "text": [
      "Successfully downloaded: /Users/princess/Documents/RA/X-scraper/data/1347800798646833154/image_1.jpg\n",
      "Created directory: /Users/princess/Documents/RA/X-scraper/data/1321831037396119553\n",
      "Downloading image: https://pbs.twimg.com/media/ElgWTl4UYAAclIP?format=jpg&name=small as image_1.jpg\n"
     ]
    },
    {
     "name": "stderr",
     "output_type": "stream",
     "text": [
      "image_1.jpg: 100%|██████████| 76.1k/76.1k [00:00<00:00, 46.0MiB/s]\n"
     ]
    },
    {
     "name": "stdout",
     "output_type": "stream",
     "text": [
      "Successfully downloaded: /Users/princess/Documents/RA/X-scraper/data/1321831037396119553/image_1.jpg\n",
      "Downloading image: https://pbs.twimg.com/media/ElgWTmiVgAAk2uM?format=jpg&name=small as image_2.jpg\n"
     ]
    },
    {
     "name": "stderr",
     "output_type": "stream",
     "text": [
      "image_2.jpg: 100%|██████████| 88.2k/88.2k [00:00<00:00, 33.8MiB/s]\n"
     ]
    },
    {
     "name": "stdout",
     "output_type": "stream",
     "text": [
      "Successfully downloaded: /Users/princess/Documents/RA/X-scraper/data/1321831037396119553/image_2.jpg\n",
      "Downloading image: https://pbs.twimg.com/media/ElgWTp5VoAI_Xhv?format=jpg&name=small as image_3.jpg\n"
     ]
    },
    {
     "name": "stderr",
     "output_type": "stream",
     "text": [
      "image_3.jpg: 100%|██████████| 89.2k/89.2k [00:00<00:00, 86.7MiB/s]\n"
     ]
    },
    {
     "name": "stdout",
     "output_type": "stream",
     "text": [
      "Successfully downloaded: /Users/princess/Documents/RA/X-scraper/data/1321831037396119553/image_3.jpg\n",
      "Downloading image: https://pbs.twimg.com/media/ElgWTxWVgAAJOyI?format=jpg&name=small as image_4.jpg\n"
     ]
    },
    {
     "name": "stderr",
     "output_type": "stream",
     "text": [
      "image_4.jpg: 100%|██████████| 71.8k/71.8k [00:00<00:00, 32.0MiB/s]\n"
     ]
    },
    {
     "name": "stdout",
     "output_type": "stream",
     "text": [
      "Successfully downloaded: /Users/princess/Documents/RA/X-scraper/data/1321831037396119553/image_4.jpg\n",
      "Created directory: /Users/princess/Documents/RA/X-scraper/data/1477213384424579082\n",
      "Downloading image: https://pbs.twimg.com/media/FIAc2-cUYAEgltd?format=jpg&name=medium as image_1.jpg\n"
     ]
    },
    {
     "name": "stderr",
     "output_type": "stream",
     "text": [
      "image_1.jpg: 100%|██████████| 96.2k/96.2k [00:00<00:00, 10.4MiB/s]\n"
     ]
    },
    {
     "name": "stdout",
     "output_type": "stream",
     "text": [
      "Successfully downloaded: /Users/princess/Documents/RA/X-scraper/data/1477213384424579082/image_1.jpg\n",
      "Created directory: /Users/princess/Documents/RA/X-scraper/data/1330937890633785345\n",
      "Downloading image: https://pbs.twimg.com/media/Enhw7mlVgAA-6Kp?format=jpg&name=small as image_1.jpg\n"
     ]
    },
    {
     "name": "stderr",
     "output_type": "stream",
     "text": [
      "image_1.jpg: 100%|██████████| 67.4k/67.4k [00:00<00:00, 90.7MiB/s]\n"
     ]
    },
    {
     "name": "stdout",
     "output_type": "stream",
     "text": [
      "Successfully downloaded: /Users/princess/Documents/RA/X-scraper/data/1330937890633785345/image_1.jpg\n",
      "Created directory: /Users/princess/Documents/RA/X-scraper/data/1387946119217352707\n",
      "Downloading image: https://pbs.twimg.com/media/E0L5nfnVcAE6Kt1?format=jpg&name=small as image_1.jpg\n"
     ]
    },
    {
     "name": "stderr",
     "output_type": "stream",
     "text": [
      "image_1.jpg: 100%|██████████| 27.4k/27.4k [00:00<00:00, 7.79MiB/s]\n"
     ]
    },
    {
     "name": "stdout",
     "output_type": "stream",
     "text": [
      "Successfully downloaded: /Users/princess/Documents/RA/X-scraper/data/1387946119217352707/image_1.jpg\n",
      "Downloading image: https://pbs.twimg.com/media/E0L5nfmVgAAqel6?format=jpg&name=small as image_2.jpg\n"
     ]
    },
    {
     "name": "stderr",
     "output_type": "stream",
     "text": [
      "image_2.jpg: 100%|██████████| 17.2k/17.2k [00:00<00:00, 5.02MiB/s]\n"
     ]
    },
    {
     "name": "stdout",
     "output_type": "stream",
     "text": [
      "Successfully downloaded: /Users/princess/Documents/RA/X-scraper/data/1387946119217352707/image_2.jpg\n",
      "Downloading image: https://pbs.twimg.com/media/E0L5nf9VcAMP_aS?format=jpg&name=small as image_3.jpg\n"
     ]
    },
    {
     "name": "stderr",
     "output_type": "stream",
     "text": [
      "image_3.jpg: 100%|██████████| 26.1k/26.1k [00:00<00:00, 3.24MiB/s]\n"
     ]
    },
    {
     "name": "stdout",
     "output_type": "stream",
     "text": [
      "Successfully downloaded: /Users/princess/Documents/RA/X-scraper/data/1387946119217352707/image_3.jpg\n",
      "Downloading image: https://pbs.twimg.com/media/E0L5nfnUYAEpkL_?format=jpg&name=small as image_4.jpg\n"
     ]
    },
    {
     "name": "stderr",
     "output_type": "stream",
     "text": [
      "image_4.jpg: 100%|██████████| 16.0k/16.0k [00:00<00:00, 33.8MiB/s]\n"
     ]
    },
    {
     "name": "stdout",
     "output_type": "stream",
     "text": [
      "Successfully downloaded: /Users/princess/Documents/RA/X-scraper/data/1387946119217352707/image_4.jpg\n",
      "Created directory: /Users/princess/Documents/RA/X-scraper/data/1328827842696671233\n",
      "Downloading image: https://pbs.twimg.com/media/EnDx4TeVgAI8Eaj?format=jpg&name=medium as image_1.jpg\n"
     ]
    },
    {
     "name": "stderr",
     "output_type": "stream",
     "text": [
      "image_1.jpg: 100%|██████████| 41.8k/41.8k [00:00<00:00, 69.8MiB/s]\n"
     ]
    },
    {
     "name": "stdout",
     "output_type": "stream",
     "text": [
      "Successfully downloaded: /Users/princess/Documents/RA/X-scraper/data/1328827842696671233/image_1.jpg\n",
      "Created directory: /Users/princess/Documents/RA/X-scraper/data/1465962922484531200\n",
      "Downloading image: https://pbs.twimg.com/media/FFgkTuGUcAUwtTB?format=jpg&name=medium as image_1.jpg\n"
     ]
    },
    {
     "name": "stderr",
     "output_type": "stream",
     "text": [
      "image_1.jpg: 100%|██████████| 92.2k/92.2k [00:00<00:00, 134MiB/s]\n"
     ]
    },
    {
     "name": "stdout",
     "output_type": "stream",
     "text": [
      "Successfully downloaded: /Users/princess/Documents/RA/X-scraper/data/1465962922484531200/image_1.jpg\n",
      "Created directory: /Users/princess/Documents/RA/X-scraper/data/1326595566474727424\n",
      "Downloading image: https://pbs.twimg.com/ext_tw_video_thumb/1326595408022233088/pu/img/5oCciScFFyY28b-B.jpg as image_1.jpg\n"
     ]
    },
    {
     "name": "stderr",
     "output_type": "stream",
     "text": [
      "image_1.jpg: 100%|██████████| 65.4k/65.4k [00:00<00:00, 69.8MiB/s]\n"
     ]
    },
    {
     "name": "stdout",
     "output_type": "stream",
     "text": [
      "Successfully downloaded: /Users/princess/Documents/RA/X-scraper/data/1326595566474727424/image_1.jpg\n",
      "Created directory: /Users/princess/Documents/RA/X-scraper/data/1387316098308087811\n",
      "Downloading image: https://pbs.twimg.com/media/E0Cvg75UcAUJ4Ws?format=jpg&name=medium as image_1.jpg\n"
     ]
    },
    {
     "name": "stderr",
     "output_type": "stream",
     "text": [
      "image_1.jpg: 100%|██████████| 107k/107k [00:00<00:00, 21.9MiB/s]\n"
     ]
    },
    {
     "name": "stdout",
     "output_type": "stream",
     "text": [
      "Successfully downloaded: /Users/princess/Documents/RA/X-scraper/data/1387316098308087811/image_1.jpg\n",
      "Created directory: /Users/princess/Documents/RA/X-scraper/data/1284616581499109376\n",
      "Downloading image: https://pbs.twimg.com/media/EdPew2OUEAAvjyp?format=jpg&name=900x900 as image_1.jpg\n"
     ]
    },
    {
     "name": "stderr",
     "output_type": "stream",
     "text": [
      "image_1.jpg: 100%|██████████| 143k/143k [00:00<00:00, 2.86MiB/s]\n"
     ]
    },
    {
     "name": "stdout",
     "output_type": "stream",
     "text": [
      "Successfully downloaded: /Users/princess/Documents/RA/X-scraper/data/1284616581499109376/image_1.jpg\n",
      "Downloading image: https://pbs.twimg.com/media/EdPe2CkU0AAr97d?format=jpg&name=medium as image_2.jpg\n"
     ]
    },
    {
     "name": "stderr",
     "output_type": "stream",
     "text": [
      "image_2.jpg: 100%|██████████| 227k/227k [00:00<00:00, 3.76MiB/s]\n"
     ]
    },
    {
     "name": "stdout",
     "output_type": "stream",
     "text": [
      "Successfully downloaded: /Users/princess/Documents/RA/X-scraper/data/1284616581499109376/image_2.jpg\n",
      "Created directory: /Users/princess/Documents/RA/X-scraper/data/1472192078423543810\n",
      "Downloading image: https://pbs.twimg.com/media/FG5Fzj9VgAMG3_M?format=jpg&name=medium as image_1.jpg\n"
     ]
    },
    {
     "name": "stderr",
     "output_type": "stream",
     "text": [
      "image_1.jpg: 100%|██████████| 83.9k/83.9k [00:00<00:00, 18.2MiB/s]\n"
     ]
    },
    {
     "name": "stdout",
     "output_type": "stream",
     "text": [
      "Successfully downloaded: /Users/princess/Documents/RA/X-scraper/data/1472192078423543810/image_1.jpg\n",
      "Created directory: /Users/princess/Documents/RA/X-scraper/data/1348449591293747203\n",
      "Downloading image: https://pbs.twimg.com/media/EradXZGVkAAIgZC?format=jpg&name=medium as image_1.jpg\n"
     ]
    },
    {
     "name": "stderr",
     "output_type": "stream",
     "text": [
      "image_1.jpg: 100%|██████████| 149k/149k [00:00<00:00, 4.92MiB/s]\n"
     ]
    },
    {
     "name": "stdout",
     "output_type": "stream",
     "text": [
      "Successfully downloaded: /Users/princess/Documents/RA/X-scraper/data/1348449591293747203/image_1.jpg\n",
      "Created directory: /Users/princess/Documents/RA/X-scraper/data/1367891448658456576\n",
      "Downloading image: https://pbs.twimg.com/media/Evu6BT_UcAEqGFR?format=jpg&name=medium as image_1.jpg\n"
     ]
    },
    {
     "name": "stderr",
     "output_type": "stream",
     "text": [
      "image_1.jpg: 100%|██████████| 114k/114k [00:00<00:00, 471kiB/s] \n"
     ]
    },
    {
     "name": "stdout",
     "output_type": "stream",
     "text": [
      "Successfully downloaded: /Users/princess/Documents/RA/X-scraper/data/1367891448658456576/image_1.jpg\n",
      "Created directory: /Users/princess/Documents/RA/X-scraper/data/1311945056891232256\n",
      "Downloading image: https://pbs.twimg.com/media/EjT1TW-VkAM4vLX?format=jpg&name=medium as image_1.jpg\n"
     ]
    },
    {
     "name": "stderr",
     "output_type": "stream",
     "text": [
      "image_1.jpg: 100%|██████████| 69.2k/69.2k [00:00<00:00, 89.8MiB/s]\n"
     ]
    },
    {
     "name": "stdout",
     "output_type": "stream",
     "text": [
      "Successfully downloaded: /Users/princess/Documents/RA/X-scraper/data/1311945056891232256/image_1.jpg\n",
      "Created directory: /Users/princess/Documents/RA/X-scraper/data/1333485359846473734\n",
      "Downloading image: https://pbs.twimg.com/media/EoF91fmVEAM54sj?format=jpg&name=medium as image_1.jpg\n"
     ]
    },
    {
     "name": "stderr",
     "output_type": "stream",
     "text": [
      "image_1.jpg: 100%|██████████| 78.7k/78.7k [00:00<00:00, 77.4MiB/s]\n"
     ]
    },
    {
     "name": "stdout",
     "output_type": "stream",
     "text": [
      "Successfully downloaded: /Users/princess/Documents/RA/X-scraper/data/1333485359846473734/image_1.jpg\n",
      "Created directory: /Users/princess/Documents/RA/X-scraper/data/1341776362068037632\n",
      "Downloading image: https://pbs.twimg.com/media/Ep7yfSTU8AU1iYi?format=jpg&name=medium as image_1.jpg\n"
     ]
    },
    {
     "name": "stderr",
     "output_type": "stream",
     "text": [
      "image_1.jpg: 100%|██████████| 21.3k/21.3k [00:00<00:00, 33.2MiB/s]\n"
     ]
    },
    {
     "name": "stdout",
     "output_type": "stream",
     "text": [
      "Successfully downloaded: /Users/princess/Documents/RA/X-scraper/data/1341776362068037632/image_1.jpg\n",
      "Created directory: /Users/princess/Documents/RA/X-scraper/data/1476944042462044160\n",
      "Downloading image: https://pbs.twimg.com/media/FH8ox1dVUAErKs6?format=jpg&name=medium as image_1.jpg\n"
     ]
    },
    {
     "name": "stderr",
     "output_type": "stream",
     "text": [
      "image_1.jpg: 100%|██████████| 52.6k/52.6k [00:00<00:00, 87.6MiB/s]\n"
     ]
    },
    {
     "name": "stdout",
     "output_type": "stream",
     "text": [
      "Successfully downloaded: /Users/princess/Documents/RA/X-scraper/data/1476944042462044160/image_1.jpg\n",
      "Created directory: /Users/princess/Documents/RA/X-scraper/data/1399645595388694533\n",
      "Downloading image: https://pbs.twimg.com/media/E2yJQjyUUAA1ASA?format=jpg&name=medium as image_1.jpg\n"
     ]
    },
    {
     "name": "stderr",
     "output_type": "stream",
     "text": [
      "image_1.jpg: 100%|██████████| 96.1k/96.1k [00:00<00:00, 29.0MiB/s]\n"
     ]
    },
    {
     "name": "stdout",
     "output_type": "stream",
     "text": [
      "Successfully downloaded: /Users/princess/Documents/RA/X-scraper/data/1399645595388694533/image_1.jpg\n",
      "Created directory: /Users/princess/Documents/RA/X-scraper/data/1362844190917292032\n",
      "Downloading image: https://pbs.twimg.com/media/EunLj95VIAM-x10?format=jpg&name=medium as image_1.jpg\n"
     ]
    },
    {
     "name": "stderr",
     "output_type": "stream",
     "text": [
      "image_1.jpg: 100%|██████████| 119k/119k [00:00<00:00, 463kiB/s] \n"
     ]
    },
    {
     "name": "stdout",
     "output_type": "stream",
     "text": [
      "Successfully downloaded: /Users/princess/Documents/RA/X-scraper/data/1362844190917292032/image_1.jpg\n",
      "Created directory: /Users/princess/Documents/RA/X-scraper/data/1342154822007418880\n",
      "Downloading image: https://pbs.twimg.com/media/Epj6pb4UcAEsY8i?format=jpg&name=medium as image_1.jpg\n"
     ]
    },
    {
     "name": "stderr",
     "output_type": "stream",
     "text": [
      "image_1.jpg: 100%|██████████| 122k/122k [00:00<00:00, 13.7MiB/s]\n"
     ]
    },
    {
     "name": "stdout",
     "output_type": "stream",
     "text": [
      "Successfully downloaded: /Users/princess/Documents/RA/X-scraper/data/1342154822007418880/image_1.jpg\n",
      "Created directory: /Users/princess/Documents/RA/X-scraper/data/1379848619432439812\n",
      "Downloading image: https://pbs.twimg.com/ext_tw_video_thumb/1379848193609883649/pu/img/PklaMKPqXU04akoh.jpg as image_1.jpg\n"
     ]
    },
    {
     "name": "stderr",
     "output_type": "stream",
     "text": [
      "image_1.jpg: 100%|██████████| 86.1k/86.1k [00:00<00:00, 385kiB/s]\n"
     ]
    },
    {
     "name": "stdout",
     "output_type": "stream",
     "text": [
      "Successfully downloaded: /Users/princess/Documents/RA/X-scraper/data/1379848619432439812/image_1.jpg\n",
      "Created directory: /Users/princess/Documents/RA/X-scraper/data/1346882406133895169\n",
      "Downloading image: https://pbs.twimg.com/ext_tw_video_thumb/1346881956223455232/pu/img/_Sad1akcesfNX5oG.jpg as image_1.jpg\n"
     ]
    },
    {
     "name": "stderr",
     "output_type": "stream",
     "text": [
      "image_1.jpg: 100%|██████████| 65.4k/65.4k [00:00<00:00, 18.0MiB/s]\n"
     ]
    },
    {
     "name": "stdout",
     "output_type": "stream",
     "text": [
      "Successfully downloaded: /Users/princess/Documents/RA/X-scraper/data/1346882406133895169/image_1.jpg\n",
      "Created directory: /Users/princess/Documents/RA/X-scraper/data/1323273897962213377\n",
      "Downloading image: https://pbs.twimg.com/media/El02mJAUcAAms9N?format=jpg&name=large as image_1.jpg\n"
     ]
    },
    {
     "name": "stderr",
     "output_type": "stream",
     "text": [
      "image_1.jpg: 100%|██████████| 170k/170k [00:00<00:00, 5.14MiB/s]\n"
     ]
    },
    {
     "name": "stdout",
     "output_type": "stream",
     "text": [
      "Successfully downloaded: /Users/princess/Documents/RA/X-scraper/data/1323273897962213377/image_1.jpg\n",
      "No media found for tweet_id 1352339801890930688. Skipping.\n",
      "Created directory: /Users/princess/Documents/RA/X-scraper/data/1376928326598598659\n",
      "Downloading image: https://pbs.twimg.com/ext_tw_video_thumb/1376928146092519427/pu/img/py52f27TdNhxED2o.jpg as image_1.jpg\n"
     ]
    },
    {
     "name": "stderr",
     "output_type": "stream",
     "text": [
      "image_1.jpg: 100%|██████████| 66.2k/66.2k [00:00<00:00, 78.8MiB/s]\n"
     ]
    },
    {
     "name": "stdout",
     "output_type": "stream",
     "text": [
      "Successfully downloaded: /Users/princess/Documents/RA/X-scraper/data/1376928326598598659/image_1.jpg\n",
      "Created directory: /Users/princess/Documents/RA/X-scraper/data/1388521706030092293\n",
      "Downloading image: https://pbs.twimg.com/media/E0UFIcLVgA8v9tx?format=jpg&name=medium as image_1.jpg\n"
     ]
    },
    {
     "name": "stderr",
     "output_type": "stream",
     "text": [
      "image_1.jpg: 100%|██████████| 108k/108k [00:00<00:00, 126MiB/s]\n"
     ]
    },
    {
     "name": "stdout",
     "output_type": "stream",
     "text": [
      "Successfully downloaded: /Users/princess/Documents/RA/X-scraper/data/1388521706030092293/image_1.jpg\n",
      "Created directory: /Users/princess/Documents/RA/X-scraper/data/1508455282388602880\n",
      "Downloading image: https://pbs.twimg.com/media/FO8cDi0VIAI2397?format=jpg&name=small as image_1.jpg\n"
     ]
    },
    {
     "name": "stderr",
     "output_type": "stream",
     "text": [
      "image_1.jpg: 100%|██████████| 28.0k/28.0k [00:00<00:00, 17.6MiB/s]\n"
     ]
    },
    {
     "name": "stdout",
     "output_type": "stream",
     "text": [
      "Successfully downloaded: /Users/princess/Documents/RA/X-scraper/data/1508455282388602880/image_1.jpg\n",
      "Downloading image: https://pbs.twimg.com/media/FO8cDizVEAAomx5?format=jpg&name=small as image_2.jpg\n"
     ]
    },
    {
     "name": "stderr",
     "output_type": "stream",
     "text": [
      "image_2.jpg: 100%|██████████| 65.1k/65.1k [00:00<00:00, 25.3MiB/s]\n"
     ]
    },
    {
     "name": "stdout",
     "output_type": "stream",
     "text": [
      "Successfully downloaded: /Users/princess/Documents/RA/X-scraper/data/1508455282388602880/image_2.jpg\n",
      "Downloading image: https://pbs.twimg.com/media/FO8cDi0UcAMjN_N?format=jpg&name=small as image_3.jpg\n"
     ]
    },
    {
     "name": "stderr",
     "output_type": "stream",
     "text": [
      "image_3.jpg: 100%|██████████| 71.9k/71.9k [00:00<00:00, 56.4MiB/s]\n"
     ]
    },
    {
     "name": "stdout",
     "output_type": "stream",
     "text": [
      "Successfully downloaded: /Users/princess/Documents/RA/X-scraper/data/1508455282388602880/image_3.jpg\n",
      "Downloading image: https://pbs.twimg.com/media/FO8cDiyVcAUwBbQ?format=jpg&name=small as image_4.jpg\n"
     ]
    },
    {
     "name": "stderr",
     "output_type": "stream",
     "text": [
      "image_4.jpg: 100%|██████████| 62.2k/62.2k [00:00<00:00, 3.83MiB/s]\n"
     ]
    },
    {
     "name": "stdout",
     "output_type": "stream",
     "text": [
      "Successfully downloaded: /Users/princess/Documents/RA/X-scraper/data/1508455282388602880/image_4.jpg\n",
      "No media found for tweet_id 1348762017880961028. Skipping.\n",
      "Created directory: /Users/princess/Documents/RA/X-scraper/data/1347265439596859394\n",
      "Downloading image: https://pbs.twimg.com/media/ErJyxfcVcAYbhKC?format=jpg&name=900x900 as image_1.jpg\n"
     ]
    },
    {
     "name": "stderr",
     "output_type": "stream",
     "text": [
      "image_1.jpg: 100%|██████████| 56.9k/56.9k [00:00<00:00, 8.77MiB/s]\n"
     ]
    },
    {
     "name": "stdout",
     "output_type": "stream",
     "text": [
      "Successfully downloaded: /Users/princess/Documents/RA/X-scraper/data/1347265439596859394/image_1.jpg\n",
      "Created directory: /Users/princess/Documents/RA/X-scraper/data/1379495837814820865\n",
      "Downloading image: https://pbs.twimg.com/media/EyT0JtaUUAUaMk5?format=jpg&name=medium as image_1.jpg\n"
     ]
    },
    {
     "name": "stderr",
     "output_type": "stream",
     "text": [
      "image_1.jpg: 100%|██████████| 145k/145k [00:00<00:00, 4.69MiB/s]\n"
     ]
    },
    {
     "name": "stdout",
     "output_type": "stream",
     "text": [
      "Successfully downloaded: /Users/princess/Documents/RA/X-scraper/data/1379495837814820865/image_1.jpg\n",
      "Created directory: /Users/princess/Documents/RA/X-scraper/data/1324438754564562944\n",
      "Downloading image: https://pbs.twimg.com/media/EmFVaWDVkAAjuJm?format=jpg&name=medium as image_1.jpg\n"
     ]
    },
    {
     "name": "stderr",
     "output_type": "stream",
     "text": [
      "image_1.jpg: 100%|██████████| 95.4k/95.4k [00:00<00:00, 28.9MiB/s]\n"
     ]
    },
    {
     "name": "stdout",
     "output_type": "stream",
     "text": [
      "Successfully downloaded: /Users/princess/Documents/RA/X-scraper/data/1324438754564562944/image_1.jpg\n",
      "Created directory: /Users/princess/Documents/RA/X-scraper/data/1324608628066643968\n",
      "Downloading image: https://pbs.twimg.com/media/EmHzZuaVkAETZUJ?format=jpg&name=900x900 as image_1.jpg\n"
     ]
    },
    {
     "name": "stderr",
     "output_type": "stream",
     "text": [
      "image_1.jpg: 100%|██████████| 222k/222k [00:00<00:00, 3.45MiB/s]\n"
     ]
    },
    {
     "name": "stdout",
     "output_type": "stream",
     "text": [
      "Successfully downloaded: /Users/princess/Documents/RA/X-scraper/data/1324608628066643968/image_1.jpg\n",
      "Created directory: /Users/princess/Documents/RA/X-scraper/data/1403170656296992772\n",
      "Downloading image: https://pbs.twimg.com/media/E3kQIWeUYAAicdw?format=jpg&name=medium as image_1.jpg\n"
     ]
    },
    {
     "name": "stderr",
     "output_type": "stream",
     "text": [
      "image_1.jpg: 100%|██████████| 131k/131k [00:00<00:00, 1.56MiB/s]\n"
     ]
    },
    {
     "name": "stdout",
     "output_type": "stream",
     "text": [
      "Successfully downloaded: /Users/princess/Documents/RA/X-scraper/data/1403170656296992772/image_1.jpg\n",
      "Created directory: /Users/princess/Documents/RA/X-scraper/data/1331598520214687746\n",
      "Downloading image: https://pbs.twimg.com/media/Eno5YODVoAACB1u?format=jpg&name=900x900 as image_1.jpg\n"
     ]
    },
    {
     "name": "stderr",
     "output_type": "stream",
     "text": [
      "image_1.jpg: 100%|██████████| 16.1k/16.1k [00:00<00:00, 9.43MiB/s]\n"
     ]
    },
    {
     "name": "stdout",
     "output_type": "stream",
     "text": [
      "Successfully downloaded: /Users/princess/Documents/RA/X-scraper/data/1331598520214687746/image_1.jpg\n",
      "Created directory: /Users/princess/Documents/RA/X-scraper/data/1325878471080333312\n",
      "Downloading image: https://pbs.twimg.com/media/EmZ3b8pVoAEcO7H?format=jpg&name=medium as image_1.jpg\n"
     ]
    },
    {
     "name": "stderr",
     "output_type": "stream",
     "text": [
      "image_1.jpg: 100%|██████████| 260k/260k [00:00<00:00, 6.38MiB/s]\n"
     ]
    },
    {
     "name": "stdout",
     "output_type": "stream",
     "text": [
      "Successfully downloaded: /Users/princess/Documents/RA/X-scraper/data/1325878471080333312/image_1.jpg\n",
      "Created directory: /Users/princess/Documents/RA/X-scraper/data/1291804035607957504\n",
      "Downloading image: https://pbs.twimg.com/ext_tw_video_thumb/1291803964053180416/pu/img/jEobefeZhc6KaS8w.jpg as image_1.jpg\n"
     ]
    },
    {
     "name": "stderr",
     "output_type": "stream",
     "text": [
      "image_1.jpg: 100%|██████████| 138k/138k [00:00<00:00, 1.68MiB/s]\n"
     ]
    },
    {
     "name": "stdout",
     "output_type": "stream",
     "text": [
      "Successfully downloaded: /Users/princess/Documents/RA/X-scraper/data/1291804035607957504/image_1.jpg\n",
      "Created directory: /Users/princess/Documents/RA/X-scraper/data/1347853431923376129\n",
      "Downloading image: https://pbs.twimg.com/media/ErSIHyvVcAAFUZ9?format=jpg&name=medium as image_1.jpg\n"
     ]
    },
    {
     "name": "stderr",
     "output_type": "stream",
     "text": [
      "image_1.jpg: 100%|██████████| 90.1k/90.1k [00:00<00:00, 591kiB/s]\n"
     ]
    },
    {
     "name": "stdout",
     "output_type": "stream",
     "text": [
      "Successfully downloaded: /Users/princess/Documents/RA/X-scraper/data/1347853431923376129/image_1.jpg\n",
      "Created directory: /Users/princess/Documents/RA/X-scraper/data/1686330355568226306\n",
      "Downloading image: https://pbs.twimg.com/media/F2cHtK2bkAAtgR2?format=jpg&name=large as image_1.jpg\n"
     ]
    },
    {
     "name": "stderr",
     "output_type": "stream",
     "text": [
      "image_1.jpg: 100%|██████████| 183k/183k [00:00<00:00, 3.12MiB/s]\n"
     ]
    },
    {
     "name": "stdout",
     "output_type": "stream",
     "text": [
      "Successfully downloaded: /Users/princess/Documents/RA/X-scraper/data/1686330355568226306/image_1.jpg\n",
      "Created directory: /Users/princess/Documents/RA/X-scraper/data/1346173896861470720\n",
      "Downloading image: https://pbs.twimg.com/media/Eq6SBavVEAEj9ei?format=jpg&name=medium as image_1.jpg\n"
     ]
    },
    {
     "name": "stderr",
     "output_type": "stream",
     "text": [
      "image_1.jpg: 100%|██████████| 126k/126k [00:00<00:00, 7.39MiB/s]\n"
     ]
    },
    {
     "name": "stdout",
     "output_type": "stream",
     "text": [
      "Successfully downloaded: /Users/princess/Documents/RA/X-scraper/data/1346173896861470720/image_1.jpg\n",
      "Created directory: /Users/princess/Documents/RA/X-scraper/data/1361388936686309376\n",
      "Downloading image: https://pbs.twimg.com/media/EuSgARXVIAElCuS?format=jpg&name=900x900 as image_1.jpg\n"
     ]
    },
    {
     "name": "stderr",
     "output_type": "stream",
     "text": [
      "image_1.jpg: 100%|██████████| 109k/109k [00:00<00:00, 274kiB/s] \n"
     ]
    },
    {
     "name": "stdout",
     "output_type": "stream",
     "text": [
      "Successfully downloaded: /Users/princess/Documents/RA/X-scraper/data/1361388936686309376/image_1.jpg\n",
      "Created directory: /Users/princess/Documents/RA/X-scraper/data/1422115327568072704\n",
      "Downloading image: https://pbs.twimg.com/media/E7xeSUXVIAUPqxs?format=jpg&name=medium as image_1.jpg\n"
     ]
    },
    {
     "name": "stderr",
     "output_type": "stream",
     "text": [
      "image_1.jpg: 100%|██████████| 85.1k/85.1k [00:00<00:00, 22.1MiB/s]\n"
     ]
    },
    {
     "name": "stdout",
     "output_type": "stream",
     "text": [
      "Successfully downloaded: /Users/princess/Documents/RA/X-scraper/data/1422115327568072704/image_1.jpg\n",
      "Created directory: /Users/princess/Documents/RA/X-scraper/data/1418091054205599746\n",
      "Downloading image: https://pbs.twimg.com/ext_tw_video_thumb/1418090532819980290/pu/img/-18XbKzISBEgoTAm.jpg as image_1.jpg\n"
     ]
    },
    {
     "name": "stderr",
     "output_type": "stream",
     "text": [
      "image_1.jpg: 100%|██████████| 85.2k/85.2k [00:00<00:00, 34.6MiB/s]\n"
     ]
    },
    {
     "name": "stdout",
     "output_type": "stream",
     "text": [
      "Successfully downloaded: /Users/princess/Documents/RA/X-scraper/data/1418091054205599746/image_1.jpg\n",
      "Created directory: /Users/princess/Documents/RA/X-scraper/data/1309492538005360640\n",
      "Downloading image: https://pbs.twimg.com/media/Eiw_5G0VoAYEW9O?format=jpg&name=small as image_1.jpg\n"
     ]
    },
    {
     "name": "stderr",
     "output_type": "stream",
     "text": [
      "image_1.jpg: 100%|██████████| 43.3k/43.3k [00:00<00:00, 6.75MiB/s]\n"
     ]
    },
    {
     "name": "stdout",
     "output_type": "stream",
     "text": [
      "Successfully downloaded: /Users/princess/Documents/RA/X-scraper/data/1309492538005360640/image_1.jpg\n",
      "Downloading image: https://pbs.twimg.com/media/Eiw_5G0UMAIYqH6?format=jpg&name=small as image_2.jpg\n"
     ]
    },
    {
     "name": "stderr",
     "output_type": "stream",
     "text": [
      "image_2.jpg: 100%|██████████| 51.5k/51.5k [00:00<00:00, 85.1MiB/s]\n"
     ]
    },
    {
     "name": "stdout",
     "output_type": "stream",
     "text": [
      "Successfully downloaded: /Users/princess/Documents/RA/X-scraper/data/1309492538005360640/image_2.jpg\n",
      "Downloading image: https://pbs.twimg.com/media/Eiw_5G0VoAMYs1G?format=jpg&name=small as image_3.jpg\n"
     ]
    },
    {
     "name": "stderr",
     "output_type": "stream",
     "text": [
      "image_3.jpg: 100%|██████████| 65.7k/65.7k [00:00<00:00, 32.2MiB/s]\n"
     ]
    },
    {
     "name": "stdout",
     "output_type": "stream",
     "text": [
      "Successfully downloaded: /Users/princess/Documents/RA/X-scraper/data/1309492538005360640/image_3.jpg\n",
      "Downloading image: https://pbs.twimg.com/media/Eiw_5HAVgAAUhco?format=jpg&name=medium as image_4.jpg\n"
     ]
    },
    {
     "name": "stderr",
     "output_type": "stream",
     "text": [
      "image_4.jpg: 100%|██████████| 79.9k/79.9k [00:00<00:00, 96.3MiB/s]\n"
     ]
    },
    {
     "name": "stdout",
     "output_type": "stream",
     "text": [
      "Successfully downloaded: /Users/princess/Documents/RA/X-scraper/data/1309492538005360640/image_4.jpg\n",
      "No media found for tweet_id 1353767794836291587. Skipping.\n",
      "Created directory: /Users/princess/Documents/RA/X-scraper/data/1359912097845420035\n",
      "Downloading image: https://pbs.twimg.com/media/Et9g2DtVcAIysM6?format=jpg&name=medium as image_1.jpg\n"
     ]
    },
    {
     "name": "stderr",
     "output_type": "stream",
     "text": [
      "image_1.jpg: 100%|██████████| 41.8k/41.8k [00:00<00:00, 7.97MiB/s]\n"
     ]
    },
    {
     "name": "stdout",
     "output_type": "stream",
     "text": [
      "Successfully downloaded: /Users/princess/Documents/RA/X-scraper/data/1359912097845420035/image_1.jpg\n",
      "No media found for tweet_id 1368288585795833856. Skipping.\n",
      "No media found for tweet_id 1349786354746474496. Skipping.\n",
      "Created directory: /Users/princess/Documents/RA/X-scraper/data/1386696579235475459\n",
      "Downloading image: https://pbs.twimg.com/media/Ez3HFj_VoAM_hFN?format=jpg&name=medium as image_1.jpg\n"
     ]
    },
    {
     "name": "stderr",
     "output_type": "stream",
     "text": [
      "image_1.jpg: 100%|██████████| 55.5k/55.5k [00:00<00:00, 3.36MiB/s]\n"
     ]
    },
    {
     "name": "stdout",
     "output_type": "stream",
     "text": [
      "Successfully downloaded: /Users/princess/Documents/RA/X-scraper/data/1386696579235475459/image_1.jpg\n",
      "Created directory: /Users/princess/Documents/RA/X-scraper/data/1301519938801131520\n",
      "Downloading image: https://pbs.twimg.com/media/Eg_tBI-UwAE5B9I?format=jpg&name=medium as image_1.jpg\n"
     ]
    },
    {
     "name": "stderr",
     "output_type": "stream",
     "text": [
      "image_1.jpg: 100%|██████████| 70.9k/70.9k [00:00<00:00, 32.3MiB/s]\n"
     ]
    },
    {
     "name": "stdout",
     "output_type": "stream",
     "text": [
      "Successfully downloaded: /Users/princess/Documents/RA/X-scraper/data/1301519938801131520/image_1.jpg\n",
      "Created directory: /Users/princess/Documents/RA/X-scraper/data/1404816103797182465\n",
      "Downloading image: https://pbs.twimg.com/media/E37oyxNVEAA7RKK?format=jpg&name=900x900 as image_1.jpg\n"
     ]
    },
    {
     "name": "stderr",
     "output_type": "stream",
     "text": [
      "image_1.jpg: 100%|██████████| 133k/133k [00:00<00:00, 4.93MiB/s]\n"
     ]
    },
    {
     "name": "stdout",
     "output_type": "stream",
     "text": [
      "Successfully downloaded: /Users/princess/Documents/RA/X-scraper/data/1404816103797182465/image_1.jpg\n",
      "Downloading image: https://pbs.twimg.com/media/E37oyxOUYAE7Et_?format=jpg&name=small as image_2.jpg\n"
     ]
    },
    {
     "name": "stderr",
     "output_type": "stream",
     "text": [
      "image_2.jpg: 100%|██████████| 51.2k/51.2k [00:00<00:00, 13.8MiB/s]\n"
     ]
    },
    {
     "name": "stdout",
     "output_type": "stream",
     "text": [
      "Successfully downloaded: /Users/princess/Documents/RA/X-scraper/data/1404816103797182465/image_2.jpg\n",
      "Downloading image: https://pbs.twimg.com/media/E37oy06WUAICjeq?format=jpg&name=small as image_3.jpg\n"
     ]
    },
    {
     "name": "stderr",
     "output_type": "stream",
     "text": [
      "image_3.jpg: 100%|██████████| 78.5k/78.5k [00:00<00:00, 24.7MiB/s]\n"
     ]
    },
    {
     "name": "stdout",
     "output_type": "stream",
     "text": [
      "Successfully downloaded: /Users/princess/Documents/RA/X-scraper/data/1404816103797182465/image_3.jpg\n",
      "No media found for tweet_id 1351226069764993025. Skipping.\n",
      "Created directory: /Users/princess/Documents/RA/X-scraper/data/1410252032892493836\n",
      "Downloading image: https://pbs.twimg.com/ext_tw_video_thumb/1410031576499425284/pu/img/FF33nE4VOcY070AM.jpg as image_1.jpg\n"
     ]
    },
    {
     "name": "stderr",
     "output_type": "stream",
     "text": [
      "image_1.jpg: 100%|██████████| 36.3k/36.3k [00:00<00:00, 39.3MiB/s]\n"
     ]
    },
    {
     "name": "stdout",
     "output_type": "stream",
     "text": [
      "Successfully downloaded: /Users/princess/Documents/RA/X-scraper/data/1410252032892493836/image_1.jpg\n",
      "Created directory: /Users/princess/Documents/RA/X-scraper/data/1384027258831073283\n",
      "Downloading image: https://pbs.twimg.com/media/EzUNGtDVgAEUoc9?format=jpg&name=small as image_1.jpg\n"
     ]
    },
    {
     "name": "stderr",
     "output_type": "stream",
     "text": [
      "image_1.jpg: 100%|██████████| 54.1k/54.1k [00:00<00:00, 75.3MiB/s]\n"
     ]
    },
    {
     "name": "stdout",
     "output_type": "stream",
     "text": [
      "Successfully downloaded: /Users/princess/Documents/RA/X-scraper/data/1384027258831073283/image_1.jpg\n",
      "Downloading image: https://pbs.twimg.com/media/EzUNGtAUcAQULjP?format=jpg&name=small as image_2.jpg\n"
     ]
    },
    {
     "name": "stderr",
     "output_type": "stream",
     "text": [
      "image_2.jpg: 100%|██████████| 40.2k/40.2k [00:00<00:00, 53.9MiB/s]\n"
     ]
    },
    {
     "name": "stdout",
     "output_type": "stream",
     "text": [
      "Successfully downloaded: /Users/princess/Documents/RA/X-scraper/data/1384027258831073283/image_2.jpg\n",
      "Downloading image: https://pbs.twimg.com/media/EzUNGtEVEAYdSDf?format=jpg&name=small as image_3.jpg\n"
     ]
    },
    {
     "name": "stderr",
     "output_type": "stream",
     "text": [
      "image_3.jpg: 100%|██████████| 31.2k/31.2k [00:00<00:00, 9.74MiB/s]\n"
     ]
    },
    {
     "name": "stdout",
     "output_type": "stream",
     "text": [
      "Successfully downloaded: /Users/princess/Documents/RA/X-scraper/data/1384027258831073283/image_3.jpg\n",
      "Downloading image: https://pbs.twimg.com/media/EzUNGtCVkAsak9K?format=jpg&name=small as image_4.jpg\n"
     ]
    },
    {
     "name": "stderr",
     "output_type": "stream",
     "text": [
      "image_4.jpg: 100%|██████████| 30.8k/30.8k [00:00<00:00, 56.0MiB/s]\n"
     ]
    },
    {
     "name": "stdout",
     "output_type": "stream",
     "text": [
      "Successfully downloaded: /Users/princess/Documents/RA/X-scraper/data/1384027258831073283/image_4.jpg\n",
      "Created directory: /Users/princess/Documents/RA/X-scraper/data/1425643323964882944\n",
      "Downloading image: https://pbs.twimg.com/media/E8jfMAFVIAI3Jun?format=jpg&name=medium as image_1.jpg\n"
     ]
    },
    {
     "name": "stderr",
     "output_type": "stream",
     "text": [
      "image_1.jpg: 100%|██████████| 41.7k/41.7k [00:00<00:00, 46.7MiB/s]\n"
     ]
    },
    {
     "name": "stdout",
     "output_type": "stream",
     "text": [
      "Successfully downloaded: /Users/princess/Documents/RA/X-scraper/data/1425643323964882944/image_1.jpg\n",
      "Created directory: /Users/princess/Documents/RA/X-scraper/data/1389489977369796611\n",
      "Downloading image: https://pbs.twimg.com/media/E0hJj6pUYAcOE5k?format=jpg&name=medium as image_1.jpg\n"
     ]
    },
    {
     "name": "stderr",
     "output_type": "stream",
     "text": [
      "image_1.jpg: 100%|██████████| 80.4k/80.4k [00:00<00:00, 94.2MiB/s]\n"
     ]
    },
    {
     "name": "stdout",
     "output_type": "stream",
     "text": [
      "Successfully downloaded: /Users/princess/Documents/RA/X-scraper/data/1389489977369796611/image_1.jpg\n",
      "Created directory: /Users/princess/Documents/RA/X-scraper/data/1458249274395795461\n",
      "Downloading image: https://pbs.twimg.com/media/FDy6mwHVUAAoLEj?format=jpg&name=small as image_1.jpg\n"
     ]
    },
    {
     "name": "stderr",
     "output_type": "stream",
     "text": [
      "image_1.jpg: 100%|██████████| 32.4k/32.4k [00:00<00:00, 59.0MiB/s]\n"
     ]
    },
    {
     "name": "stdout",
     "output_type": "stream",
     "text": [
      "Successfully downloaded: /Users/princess/Documents/RA/X-scraper/data/1458249274395795461/image_1.jpg\n",
      "Downloading image: https://pbs.twimg.com/media/FDy6qCSVcAAY2yr?format=png&name=small as image_2.jpg\n"
     ]
    },
    {
     "name": "stderr",
     "output_type": "stream",
     "text": [
      "image_2.jpg: 100%|██████████| 35.6k/35.6k [00:00<00:00, 21.9MiB/s]\n"
     ]
    },
    {
     "name": "stdout",
     "output_type": "stream",
     "text": [
      "Successfully downloaded: /Users/princess/Documents/RA/X-scraper/data/1458249274395795461/image_2.jpg\n",
      "Downloading image: https://pbs.twimg.com/media/FDy6r1EUYAoNnNV?format=png&name=small as image_3.jpg\n"
     ]
    },
    {
     "name": "stderr",
     "output_type": "stream",
     "text": [
      "image_3.jpg: 100%|██████████| 60.4k/60.4k [00:00<00:00, 10.4MiB/s]\n"
     ]
    },
    {
     "name": "stdout",
     "output_type": "stream",
     "text": [
      "Successfully downloaded: /Users/princess/Documents/RA/X-scraper/data/1458249274395795461/image_3.jpg\n",
      "Downloading image: https://pbs.twimg.com/media/FDy6tbgVIAIe6WE?format=png&name=small as image_4.jpg\n"
     ]
    },
    {
     "name": "stderr",
     "output_type": "stream",
     "text": [
      "image_4.jpg: 100%|██████████| 32.7k/32.7k [00:00<00:00, 4.22MiB/s]\n"
     ]
    },
    {
     "name": "stdout",
     "output_type": "stream",
     "text": [
      "Successfully downloaded: /Users/princess/Documents/RA/X-scraper/data/1458249274395795461/image_4.jpg\n",
      "Created directory: /Users/princess/Documents/RA/X-scraper/data/1343990538538610688\n",
      "Downloading image: https://pbs.twimg.com/media/EqbQRQOVgAAPSbD?format=jpg&name=medium as image_1.jpg\n"
     ]
    },
    {
     "name": "stderr",
     "output_type": "stream",
     "text": [
      "image_1.jpg: 100%|██████████| 201k/201k [00:00<00:00, 6.62MiB/s]\n"
     ]
    },
    {
     "name": "stdout",
     "output_type": "stream",
     "text": [
      "Successfully downloaded: /Users/princess/Documents/RA/X-scraper/data/1343990538538610688/image_1.jpg\n",
      "Created directory: /Users/princess/Documents/RA/X-scraper/data/1341815377265737729\n",
      "Downloading image: https://pbs.twimg.com/media/Ep8VvpVUYAEcjug?format=jpg&name=medium as image_1.jpg\n"
     ]
    },
    {
     "name": "stderr",
     "output_type": "stream",
     "text": [
      "image_1.jpg: 100%|██████████| 113k/113k [00:00<00:00, 10.7MiB/s]\n"
     ]
    },
    {
     "name": "stdout",
     "output_type": "stream",
     "text": [
      "Successfully downloaded: /Users/princess/Documents/RA/X-scraper/data/1341815377265737729/image_1.jpg\n",
      "No media found for tweet_id 1409562211178016771. Skipping.\n",
      "Created directory: /Users/princess/Documents/RA/X-scraper/data/1290276120701460481\n",
      "Downloading image: https://pbs.twimg.com/media/Eef64fiU4AIVoa2?format=jpg&name=medium as image_1.jpg\n"
     ]
    },
    {
     "name": "stderr",
     "output_type": "stream",
     "text": [
      "image_1.jpg: 100%|██████████| 426k/426k [00:00<00:00, 9.78MiB/s]\n"
     ]
    },
    {
     "name": "stdout",
     "output_type": "stream",
     "text": [
      "Successfully downloaded: /Users/princess/Documents/RA/X-scraper/data/1290276120701460481/image_1.jpg\n",
      "Created directory: /Users/princess/Documents/RA/X-scraper/data/1339238344094437377\n",
      "Downloading image: https://pbs.twimg.com/ext_tw_video_thumb/1339237959296380929/pu/img/ePsopA23iEhOHitR.jpg as image_1.jpg\n"
     ]
    },
    {
     "name": "stderr",
     "output_type": "stream",
     "text": [
      "image_1.jpg: 100%|██████████| 13.2k/13.2k [00:00<00:00, 17.2MiB/s]\n"
     ]
    },
    {
     "name": "stdout",
     "output_type": "stream",
     "text": [
      "Successfully downloaded: /Users/princess/Documents/RA/X-scraper/data/1339238344094437377/image_1.jpg\n",
      "Created directory: /Users/princess/Documents/RA/X-scraper/data/1331015377426345986\n",
      "Downloading image: https://pbs.twimg.com/ext_tw_video_thumb/1331015330743820288/pu/img/zQxk4IlIKpgPWiL7.jpg as image_1.jpg\n"
     ]
    },
    {
     "name": "stderr",
     "output_type": "stream",
     "text": [
      "image_1.jpg: 100%|██████████| 33.2k/33.2k [00:00<00:00, 38.3MiB/s]\n"
     ]
    },
    {
     "name": "stdout",
     "output_type": "stream",
     "text": [
      "Successfully downloaded: /Users/princess/Documents/RA/X-scraper/data/1331015377426345986/image_1.jpg\n",
      "Created directory: /Users/princess/Documents/RA/X-scraper/data/1327331070484774912\n",
      "Downloading image: https://pbs.twimg.com/media/EmugkcPUwAAZNZ9?format=jpg&name=small as image_1.jpg\n"
     ]
    },
    {
     "name": "stderr",
     "output_type": "stream",
     "text": [
      "image_1.jpg: 100%|██████████| 33.0k/33.0k [00:00<00:00, 38.8MiB/s]\n"
     ]
    },
    {
     "name": "stdout",
     "output_type": "stream",
     "text": [
      "Successfully downloaded: /Users/princess/Documents/RA/X-scraper/data/1327331070484774912/image_1.jpg\n",
      "Created directory: /Users/princess/Documents/RA/X-scraper/data/1338556315258429440\n",
      "Downloading image: https://pbs.twimg.com/ext_tw_video_thumb/1338555593359937536/pu/img/2blWpRkORU-Baazc.jpg as image_1.jpg\n"
     ]
    },
    {
     "name": "stderr",
     "output_type": "stream",
     "text": [
      "image_1.jpg: 100%|██████████| 6.52k/6.52k [00:00<00:00, 18.6MiB/s]\n"
     ]
    },
    {
     "name": "stdout",
     "output_type": "stream",
     "text": [
      "Successfully downloaded: /Users/princess/Documents/RA/X-scraper/data/1338556315258429440/image_1.jpg\n",
      "Created directory: /Users/princess/Documents/RA/X-scraper/data/1364604498564423682\n",
      "Downloading image: https://pbs.twimg.com/media/Eu9IECLVkAICPvt?format=jpg&name=medium as image_1.jpg\n"
     ]
    },
    {
     "name": "stderr",
     "output_type": "stream",
     "text": [
      "image_1.jpg: 100%|██████████| 69.6k/69.6k [00:00<00:00, 3.52MiB/s]\n"
     ]
    },
    {
     "name": "stdout",
     "output_type": "stream",
     "text": [
      "Successfully downloaded: /Users/princess/Documents/RA/X-scraper/data/1364604498564423682/image_1.jpg\n",
      "Created directory: /Users/princess/Documents/RA/X-scraper/data/1363926561431281674\n",
      "Downloading image: https://pbs.twimg.com/media/Eu2j7c-UYAc2z_y?format=jpg&name=medium as image_1.jpg\n"
     ]
    },
    {
     "name": "stderr",
     "output_type": "stream",
     "text": [
      "image_1.jpg: 100%|██████████| 73.5k/73.5k [00:00<00:00, 11.0MiB/s]\n"
     ]
    },
    {
     "name": "stdout",
     "output_type": "stream",
     "text": [
      "Successfully downloaded: /Users/princess/Documents/RA/X-scraper/data/1363926561431281674/image_1.jpg\n",
      "Created directory: /Users/princess/Documents/RA/X-scraper/data/1488433827387101185\n",
      "Downloading image: https://pbs.twimg.com/media/FKf41XZVgAAumKX?format=jpg&name=medium as image_1.jpg\n"
     ]
    },
    {
     "name": "stderr",
     "output_type": "stream",
     "text": [
      "image_1.jpg: 100%|██████████| 99.5k/99.5k [00:00<00:00, 12.5MiB/s]\n"
     ]
    },
    {
     "name": "stdout",
     "output_type": "stream",
     "text": [
      "Successfully downloaded: /Users/princess/Documents/RA/X-scraper/data/1488433827387101185/image_1.jpg\n",
      "No media found for tweet_id 1356325210241130496. Skipping.\n",
      "Created directory: /Users/princess/Documents/RA/X-scraper/data/1286703298376998913\n",
      "Downloading image: https://pbs.twimg.com/media/EdtJt-fUYAA4NBl?format=jpg&name=small as image_1.jpg\n"
     ]
    },
    {
     "name": "stderr",
     "output_type": "stream",
     "text": [
      "image_1.jpg: 100%|██████████| 78.4k/78.4k [00:00<00:00, 87.0MiB/s]\n"
     ]
    },
    {
     "name": "stdout",
     "output_type": "stream",
     "text": [
      "Successfully downloaded: /Users/princess/Documents/RA/X-scraper/data/1286703298376998913/image_1.jpg\n",
      "Downloading image: https://pbs.twimg.com/media/EdtJt-iUMAA3FIE?format=jpg&name=small as image_2.jpg\n"
     ]
    },
    {
     "name": "stderr",
     "output_type": "stream",
     "text": [
      "image_2.jpg: 100%|██████████| 33.6k/33.6k [00:00<00:00, 5.17MiB/s]\n"
     ]
    },
    {
     "name": "stdout",
     "output_type": "stream",
     "text": [
      "Successfully downloaded: /Users/princess/Documents/RA/X-scraper/data/1286703298376998913/image_2.jpg\n",
      "Downloading image: https://pbs.twimg.com/media/EdtJt-hVAAI0m_c?format=jpg&name=small as image_3.jpg\n"
     ]
    },
    {
     "name": "stderr",
     "output_type": "stream",
     "text": [
      "image_3.jpg: 100%|██████████| 54.7k/54.7k [00:00<00:00, 47.3MiB/s]\n"
     ]
    },
    {
     "name": "stdout",
     "output_type": "stream",
     "text": [
      "Successfully downloaded: /Users/princess/Documents/RA/X-scraper/data/1286703298376998913/image_3.jpg\n",
      "Downloading image: https://pbs.twimg.com/media/EdtJt-pUcAE9nM9?format=jpg&name=small as image_4.jpg\n"
     ]
    },
    {
     "name": "stderr",
     "output_type": "stream",
     "text": [
      "image_4.jpg: 100%|██████████| 38.9k/38.9k [00:00<00:00, 60.4MiB/s]\n"
     ]
    },
    {
     "name": "stdout",
     "output_type": "stream",
     "text": [
      "Successfully downloaded: /Users/princess/Documents/RA/X-scraper/data/1286703298376998913/image_4.jpg\n",
      "Created directory: /Users/princess/Documents/RA/X-scraper/data/1390222301866696706\n",
      "Downloading image: https://pbs.twimg.com/media/E0rdoVsVcAE6g12?format=jpg&name=medium as image_1.jpg\n"
     ]
    },
    {
     "name": "stderr",
     "output_type": "stream",
     "text": [
      "image_1.jpg: 100%|██████████| 366k/366k [00:00<00:00, 7.43MiB/s]\n"
     ]
    },
    {
     "name": "stdout",
     "output_type": "stream",
     "text": [
      "Successfully downloaded: /Users/princess/Documents/RA/X-scraper/data/1390222301866696706/image_1.jpg\n",
      "Created directory: /Users/princess/Documents/RA/X-scraper/data/1389127593325125632\n",
      "Downloading image: https://pbs.twimg.com/media/E0b-aDiVUAI_V0X?format=jpg&name=medium as image_1.jpg\n"
     ]
    },
    {
     "name": "stderr",
     "output_type": "stream",
     "text": [
      "image_1.jpg: 100%|██████████| 83.6k/83.6k [00:00<00:00, 4.58MiB/s]\n"
     ]
    },
    {
     "name": "stdout",
     "output_type": "stream",
     "text": [
      "Successfully downloaded: /Users/princess/Documents/RA/X-scraper/data/1389127593325125632/image_1.jpg\n",
      "Created directory: /Users/princess/Documents/RA/X-scraper/data/1842369437086986380\n",
      "Downloading image: https://pbs.twimg.com/media/GZFl6yKboAAqp_y?format=jpg&name=medium as image_1.jpg\n"
     ]
    },
    {
     "name": "stderr",
     "output_type": "stream",
     "text": [
      "image_1.jpg: 100%|██████████| 84.1k/84.1k [00:00<00:00, 286kiB/s]\n"
     ]
    },
    {
     "name": "stdout",
     "output_type": "stream",
     "text": [
      "Successfully downloaded: /Users/princess/Documents/RA/X-scraper/data/1842369437086986380/image_1.jpg\n",
      "No media found for tweet_id 1354127375206731776. Skipping.\n",
      "Created directory: /Users/princess/Documents/RA/X-scraper/data/1376573842634641416\n",
      "Downloading image: https://pbs.twimg.com/media/ExqSmQbVEAMrI5Y?format=jpg&name=medium as image_1.jpg\n"
     ]
    },
    {
     "name": "stderr",
     "output_type": "stream",
     "text": [
      "image_1.jpg: 100%|██████████| 152k/152k [00:00<00:00, 8.72MiB/s]\n"
     ]
    },
    {
     "name": "stdout",
     "output_type": "stream",
     "text": [
      "Successfully downloaded: /Users/princess/Documents/RA/X-scraper/data/1376573842634641416/image_1.jpg\n",
      "Created directory: /Users/princess/Documents/RA/X-scraper/data/1377999512405299205\n",
      "Downloading image: https://pbs.twimg.com/media/Ex5EumMU8AAJNsG?format=jpg&name=medium as image_1.jpg\n"
     ]
    },
    {
     "name": "stderr",
     "output_type": "stream",
     "text": [
      "image_1.jpg: 100%|██████████| 89.0k/89.0k [00:00<00:00, 63.6MiB/s]\n"
     ]
    },
    {
     "name": "stdout",
     "output_type": "stream",
     "text": [
      "Successfully downloaded: /Users/princess/Documents/RA/X-scraper/data/1377999512405299205/image_1.jpg\n",
      "Created directory: /Users/princess/Documents/RA/X-scraper/data/1366778825606975488\n",
      "Downloading image: https://pbs.twimg.com/media/EvcWKraUcAAAUEJ?format=jpg&name=medium as image_1.jpg\n"
     ]
    },
    {
     "name": "stderr",
     "output_type": "stream",
     "text": [
      "image_1.jpg: 100%|██████████| 186k/186k [00:00<00:00, 3.98MiB/s]\n"
     ]
    },
    {
     "name": "stdout",
     "output_type": "stream",
     "text": [
      "Successfully downloaded: /Users/princess/Documents/RA/X-scraper/data/1366778825606975488/image_1.jpg\n",
      "Created directory: /Users/princess/Documents/RA/X-scraper/data/1366460649396596736\n",
      "Downloading image: https://pbs.twimg.com/media/EvakpjlVkAEO-BZ?format=jpg&name=medium as image_1.jpg\n"
     ]
    },
    {
     "name": "stderr",
     "output_type": "stream",
     "text": [
      "image_1.jpg: 100%|██████████| 113k/113k [00:00<00:00, 1.10MiB/s]\n"
     ]
    },
    {
     "name": "stdout",
     "output_type": "stream",
     "text": [
      "Successfully downloaded: /Users/princess/Documents/RA/X-scraper/data/1366460649396596736/image_1.jpg\n",
      "Created directory: /Users/princess/Documents/RA/X-scraper/data/1405206282114539529\n",
      "Downloading image: https://pbs.twimg.com/media/E4BLnvnUYAIZm19?format=jpg&name=medium as image_1.jpg\n"
     ]
    },
    {
     "name": "stderr",
     "output_type": "stream",
     "text": [
      "image_1.jpg: 100%|██████████| 62.0k/62.0k [00:00<00:00, 83.4MiB/s]\n"
     ]
    },
    {
     "name": "stdout",
     "output_type": "stream",
     "text": [
      "Successfully downloaded: /Users/princess/Documents/RA/X-scraper/data/1405206282114539529/image_1.jpg\n",
      "Process Completed.\n"
     ]
    }
   ],
   "source": [
    "import os\n",
    "import ast\n",
    "import pandas as pd\n",
    "import requests\n",
    "from urllib.parse import urlparse\n",
    "from pathlib import Path\n",
    "from tqdm import tqdm\n",
    "from twitter_scraper_selenium import scrape_profile\n",
    "import ipywidgets as widgets\n",
    "from IPython.display import display, clear_output\n",
    "from threading import Thread\n",
    "\n",
    "def download_file(url, save_path, chunk_size=8192, log_callback=None):\n",
    "    \"\"\"\n",
    "    Downloads a file from the specified URL and saves it to the given path.\n",
    "\n",
    "    Args:\n",
    "        url (str): The URL of the file to download.\n",
    "        save_path (str): The local path where the file will be saved.\n",
    "        chunk_size (int, optional): Size of each chunk to read from the response. Defaults to 8192.\n",
    "        log_callback (function, optional): Function to call for logging messages. Defaults to None.\n",
    "    \"\"\"\n",
    "    try:\n",
    "        with requests.get(url, stream=True) as response:\n",
    "            response.raise_for_status()\n",
    "            total_size = int(response.headers.get('content-length', 0))\n",
    "            with open(save_path, 'wb') as f, tqdm(\n",
    "                desc=os.path.basename(save_path),\n",
    "                total=total_size,\n",
    "                unit='iB',\n",
    "                unit_scale=True,\n",
    "                unit_divisor=1024,\n",
    "            ) as bar:\n",
    "                for chunk in response.iter_content(chunk_size=chunk_size):\n",
    "                    if chunk:  # filter out keep-alive new chunks\n",
    "                        size = f.write(chunk)\n",
    "                        bar.update(size)\n",
    "        if log_callback:\n",
    "            log_callback(f\"Successfully downloaded: {save_path}\")\n",
    "    except requests.exceptions.RequestException as e:\n",
    "        if log_callback:\n",
    "            log_callback(f\"Failed to download {url}: {e}\")\n",
    "\n",
    "def sanitize_filename(filename):\n",
    "    \"\"\"\n",
    "    Removes or replaces characters that are invalid in file names.\n",
    "\n",
    "    Args:\n",
    "        filename (str): The original filename.\n",
    "\n",
    "    Returns:\n",
    "        str: The sanitized filename.\n",
    "    \"\"\"\n",
    "    keepcharacters = (' ', '.', '_', '-')\n",
    "    return \"\".join(c for c in filename if c.isalnum() or c in keepcharacters).rstrip()\n",
    "\n",
    "def get_file_extension(url, default='jpg'):\n",
    "    \"\"\"\n",
    "    Determines the file extension based on the URL or defaults to 'jpg'.\n",
    "\n",
    "    Args:\n",
    "        url (str): The URL of the file.\n",
    "        default (str, optional): The default file extension if none is found. Defaults to 'jpg'.\n",
    "\n",
    "    Returns:\n",
    "        str: The file extension.\n",
    "    \"\"\"\n",
    "    path = urlparse(url).path\n",
    "    ext = os.path.splitext(path)[1].lower()\n",
    "    if ext in ['.jpg', '.jpeg', '.png', '.gif']:\n",
    "        return ext\n",
    "    elif ext in ['.mp4', '.mov', '.avi', '.wmv']:\n",
    "        return ext\n",
    "    else:\n",
    "        return f\".{default}\"\n",
    "\n",
    "def scrape_tweets(twitter_username, output_format, browser, tweets_count, filename, directory, log_callback=None):\n",
    "    \"\"\"\n",
    "    Scrapes tweets from a specified Twitter profile using selenium.\n",
    "\n",
    "    Args:\n",
    "        twitter_username (str): Twitter handle of the profile to scrape.\n",
    "        output_format (str): Format to save the scraped data (e.g., 'csv').\n",
    "        browser (str): Browser to use for scraping (e.g., 'firefox').\n",
    "        tweets_count (int): Number of tweets to scrape.\n",
    "        filename (str): Name of the output file without extension.\n",
    "        directory (str): Directory where the output file will be saved.\n",
    "        log_callback (function, optional): Function to call for logging messages. Defaults to None.\n",
    "    \"\"\"\n",
    "    if log_callback:\n",
    "        log_callback(f\"Starting to scrape tweets from @{twitter_username}...\")\n",
    "    scrape_profile(\n",
    "        twitter_username=twitter_username,\n",
    "        output_format=output_format,\n",
    "        browser=browser,\n",
    "        tweets_count=tweets_count,\n",
    "        filename=filename,\n",
    "        directory=directory\n",
    "    )\n",
    "    if log_callback:\n",
    "        log_callback(f\"Scraping completed. Data saved to {os.path.join(directory, filename + '.' + output_format)}\")\n",
    "\n",
    "def download_media(csv_file, output_base_dir, log_callback=None):\n",
    "    \"\"\"\n",
    "    Processes the CSV file to download images and videos from tweets.\n",
    "\n",
    "    Args:\n",
    "        csv_file (str): Path to the CSV file containing tweet data.\n",
    "        output_base_dir (str): Base directory where media will be downloaded.\n",
    "        log_callback (function, optional): Function to call for logging messages. Defaults to None.\n",
    "    \"\"\"\n",
    "    # Create the base output directory if it doesn't exist\n",
    "    Path(output_base_dir).mkdir(parents=True, exist_ok=True)\n",
    "    if log_callback:\n",
    "        log_callback(f\"Reading CSV file: {csv_file}\")\n",
    "\n",
    "    # Read the CSV file\n",
    "    try:\n",
    "        df = pd.read_csv(csv_file, dtype=str)  # Read all data as strings to avoid issues\n",
    "    except Exception as e:\n",
    "        if log_callback:\n",
    "            log_callback(f\"Error reading CSV file: {e}\")\n",
    "        return\n",
    "\n",
    "    # Iterate over each row in the DataFrame\n",
    "    for index, row in df.iterrows():\n",
    "        tweet_id = str(row.get('tweet_id', '')).strip()\n",
    "        if not tweet_id:\n",
    "            if log_callback:\n",
    "                log_callback(f\"Row {index} missing 'tweet_id'. Skipping.\")\n",
    "            continue\n",
    "\n",
    "        images = row.get('images', '[]')\n",
    "        videos = row.get('videos', '[]')\n",
    "\n",
    "        # Parse the string representation of lists\n",
    "        try:\n",
    "            image_urls = ast.literal_eval(images) if pd.notna(images) else []\n",
    "            if not isinstance(image_urls, list):\n",
    "                raise ValueError(\"Images field is not a list\")\n",
    "        except Exception as e:\n",
    "            if log_callback:\n",
    "                log_callback(f\"Error parsing images for tweet_id {tweet_id}: {e}\")\n",
    "            image_urls = []\n",
    "\n",
    "        try:\n",
    "            video_urls = ast.literal_eval(videos) if pd.notna(videos) else []\n",
    "            if not isinstance(video_urls, list):\n",
    "                raise ValueError(\"Videos field is not a list\")\n",
    "        except Exception as e:\n",
    "            if log_callback:\n",
    "                log_callback(f\"Error parsing videos for tweet_id {tweet_id}: {e}\")\n",
    "            video_urls = []\n",
    "\n",
    "        # Skip if there are no images and no videos\n",
    "        if not image_urls and not video_urls:\n",
    "            if log_callback:\n",
    "                log_callback(f\"No media found for tweet_id {tweet_id}. Skipping.\")\n",
    "            continue\n",
    "\n",
    "        # Create a directory for the tweet_id\n",
    "        tweet_dir = os.path.join(output_base_dir, tweet_id)\n",
    "        os.makedirs(tweet_dir, exist_ok=True)\n",
    "        if log_callback:\n",
    "            log_callback(f\"Created directory: {tweet_dir}\")\n",
    "\n",
    "        # Initialize counters for sequential naming\n",
    "        image_counter = 1\n",
    "        video_counter = 1\n",
    "\n",
    "        # Download images\n",
    "        for img_url in image_urls:\n",
    "            if not img_url or not img_url.strip():\n",
    "                continue  # Skip empty URLs\n",
    "            try:\n",
    "                # Assign sequential naming\n",
    "                ext = get_file_extension(img_url, default='jpg')\n",
    "                img_name = f\"image_{image_counter}{ext}\"\n",
    "                img_save_path = os.path.join(tweet_dir, img_name)\n",
    "                if os.path.exists(img_save_path):\n",
    "                    if log_callback:\n",
    "                        log_callback(f\"File already exists: {img_save_path}. Skipping download.\")\n",
    "                    image_counter += 1\n",
    "                    continue\n",
    "                if log_callback:\n",
    "                    log_callback(f\"Downloading image: {img_url} as {img_name}\")\n",
    "                download_file(img_url, img_save_path, log_callback=log_callback)\n",
    "                image_counter += 1\n",
    "            except Exception as e:\n",
    "                if log_callback:\n",
    "                    log_callback(f\"Error downloading image {img_url} for tweet_id {tweet_id}: {e}\")\n",
    "\n",
    "        # Download videos\n",
    "        for vid_url in video_urls:\n",
    "            if not vid_url or not vid_url.strip():\n",
    "                continue  # Skip empty URLs\n",
    "            try:\n",
    "                # Assign sequential naming\n",
    "                ext = get_file_extension(vid_url, default='mp4')\n",
    "                vid_name = f\"video_{video_counter}{ext}\"\n",
    "                vid_save_path = os.path.join(tweet_dir, vid_name)\n",
    "                if os.path.exists(vid_save_path):\n",
    "                    if log_callback:\n",
    "                        log_callback(f\"File already exists: {vid_save_path}. Skipping download.\")\n",
    "                    video_counter += 1\n",
    "                    continue\n",
    "                if log_callback:\n",
    "                    log_callback(f\"Downloading video: {vid_url} as {vid_name}\")\n",
    "                download_file(vid_url, vid_save_path, log_callback=log_callback)\n",
    "                video_counter += 1\n",
    "            except Exception as e:\n",
    "                if log_callback:\n",
    "                    log_callback(f\"Error downloading video {vid_url} for tweet_id {tweet_id}: {e}\")\n",
    "\n",
    "def start_process(twitter_username, output_format, browser, tweets_count, filename, directory, log_callback):\n",
    "    \"\"\"\n",
    "    Starts the scraping and downloading processes.\n",
    "\n",
    "    Args:\n",
    "        twitter_username (str): Twitter handle to scrape.\n",
    "        output_format (str): Output format for scraped data.\n",
    "        browser (str): Browser to use for scraping.\n",
    "        tweets_count (int): Number of tweets to scrape.\n",
    "        filename (str): Filename for the scraped data.\n",
    "        directory (str): Directory to save scraped data and downloads.\n",
    "        log_callback (function): Function to call for logging messages.\n",
    "    \"\"\"\n",
    "    # Paths for CSV and media downloads\n",
    "    csv_file = os.path.join(directory, f\"{filename}.{output_format}\")\n",
    "    output_base_dir = os.path.join(directory, \"data\")\n",
    "\n",
    "    # Step 1: Scrape tweets\n",
    "    scrape_tweets(\n",
    "        twitter_username=twitter_username,\n",
    "        output_format=output_format,\n",
    "        browser=browser,\n",
    "        tweets_count=tweets_count,\n",
    "        filename=filename,\n",
    "        directory=directory,\n",
    "        log_callback=log_callback\n",
    "    )\n",
    "\n",
    "    # Step 2: Download media from scraped tweets\n",
    "    download_media(csv_file, output_base_dir, log_callback=log_callback)\n",
    "\n",
    "def create_gui():\n",
    "    \"\"\"\n",
    "    Creates the GUI for user input using ipywidgets.\n",
    "    \"\"\"\n",
    "    # Define Widgets\n",
    "    twitter_username = widgets.Text(\n",
    "        value='nyushanghai',\n",
    "        placeholder='Enter Twitter username',\n",
    "        description='Twitter Username:',\n",
    "        disabled=False,\n",
    "        layout=widgets.Layout(width='50%')\n",
    "    )\n",
    "\n",
    "    output_format = widgets.Dropdown(\n",
    "        options=['csv', 'json'],\n",
    "        value='csv',\n",
    "        description='Output Format:',\n",
    "        disabled=False,\n",
    "        layout=widgets.Layout(width='50%')\n",
    "    )\n",
    "\n",
    "    browser = widgets.Dropdown(\n",
    "        options=['firefox', 'chrome'],\n",
    "        value='firefox',\n",
    "        description='Browser:',\n",
    "        disabled=False,\n",
    "        layout=widgets.Layout(width='50%')\n",
    "    )\n",
    "\n",
    "    tweets_count = widgets.IntText(\n",
    "        value=10,\n",
    "        description='Number of Tweets:',\n",
    "        disabled=False,\n",
    "        layout=widgets.Layout(width='50%')\n",
    "    )\n",
    "\n",
    "    filename = widgets.Text(\n",
    "        value='nyushanghai',\n",
    "        placeholder='Enter filename',\n",
    "        description='Filename:',\n",
    "        disabled=False,\n",
    "        layout=widgets.Layout(width='50%')\n",
    "    )\n",
    "\n",
    "    directory = widgets.Text(\n",
    "        value='/Users/princess/Documents/RA/X-scraper',  # Adjust as needed\n",
    "        placeholder='Enter save directory',\n",
    "        description='Save Directory:',\n",
    "        disabled=False,\n",
    "        layout=widgets.Layout(width='50%')\n",
    "    )\n",
    "\n",
    "    browse_button = widgets.Button(\n",
    "        description='Browse',\n",
    "        button_style='',\n",
    "        tooltip='Browse for directory',\n",
    "        icon='folder',\n",
    "        layout=widgets.Layout(width='10%')\n",
    "    )\n",
    "\n",
    "    # Log Output Widget\n",
    "    log_output = widgets.Output()\n",
    "\n",
    "    # Define Browse Function\n",
    "    def on_browse_clicked(b):\n",
    "        from IPython.display import display\n",
    "        import tkinter as tk\n",
    "        from tkinter import filedialog\n",
    "\n",
    "        # Hide the main tkinter window\n",
    "        root = tk.Tk()\n",
    "        root.withdraw()\n",
    "        selected_dir = filedialog.askdirectory()\n",
    "        if selected_dir:\n",
    "            directory.value = selected_dir\n",
    "\n",
    "    browse_button.on_click(on_browse_clicked)\n",
    "\n",
    "    # Define Log Callback\n",
    "    def log(message):\n",
    "        with log_output:\n",
    "            print(message)\n",
    "\n",
    "    # Define Start Button\n",
    "    start_button = widgets.Button(\n",
    "        description='Start',\n",
    "        button_style='success',\n",
    "        tooltip='Start scraping and downloading',\n",
    "        icon='play',\n",
    "        layout=widgets.Layout(width='20%')\n",
    "    )\n",
    "\n",
    "    # Define Start Button Callback\n",
    "    def on_start_clicked(b):\n",
    "        # Disable the start button to prevent multiple clicks\n",
    "        start_button.disabled = True\n",
    "\n",
    "        # Clear previous logs\n",
    "        with log_output:\n",
    "            clear_output()\n",
    "\n",
    "        # Retrieve widget values\n",
    "        twitter_username_val = twitter_username.value.strip()\n",
    "        output_format_val = output_format.value\n",
    "        browser_val = browser.value\n",
    "        tweets_count_val = tweets_count.value\n",
    "        filename_val = filename.value.strip()\n",
    "        directory_val = directory.value.strip()\n",
    "\n",
    "        # Input Validation\n",
    "        error_messages = []\n",
    "        if not twitter_username_val:\n",
    "            error_messages.append(\"Twitter Username cannot be empty.\")\n",
    "        if output_format_val not in ['csv', 'json']:\n",
    "            error_messages.append(\"Output Format must be 'csv' or 'json'.\")\n",
    "        if browser_val not in ['firefox', 'chrome']:\n",
    "            error_messages.append(\"Browser must be 'firefox' or 'chrome'.\")\n",
    "        if not isinstance(tweets_count_val, int) or tweets_count_val <= 0:\n",
    "            error_messages.append(\"Number of Tweets must be a positive integer.\")\n",
    "        if not filename_val:\n",
    "            error_messages.append(\"Filename cannot be empty.\")\n",
    "        if not os.path.isdir(directory_val):\n",
    "            error_messages.append(\"Save Directory is invalid or does not exist.\")\n",
    "\n",
    "        if error_messages:\n",
    "            with log_output:\n",
    "                for msg in error_messages:\n",
    "                    print(f\"Error: {msg}\")\n",
    "            start_button.disabled = False\n",
    "            return\n",
    "\n",
    "        # Start the scraping and downloading in a separate thread\n",
    "        thread = Thread(target=start_process, args=(\n",
    "            twitter_username_val,\n",
    "            output_format_val,\n",
    "            browser_val,\n",
    "            tweets_count_val,\n",
    "            filename_val,\n",
    "            directory_val,\n",
    "            log\n",
    "        ))\n",
    "        thread.start()\n",
    "\n",
    "        # Monitor the thread\n",
    "        def check_thread():\n",
    "            if thread.is_alive():\n",
    "                # Check again after 1 second\n",
    "                import time\n",
    "                time.sleep(1)\n",
    "                check_thread()\n",
    "            else:\n",
    "                with log_output:\n",
    "                    print(\"Process Completed.\")\n",
    "                start_button.disabled = False\n",
    "\n",
    "        check_thread_thread = Thread(target=check_thread)\n",
    "        check_thread_thread.start()\n",
    "\n",
    "    start_button.on_click(on_start_clicked)\n",
    "\n",
    "    # Arrange Widgets in Layout\n",
    "    ui = widgets.VBox([\n",
    "        widgets.HBox([twitter_username]),\n",
    "        widgets.HBox([output_format]),\n",
    "        widgets.HBox([browser]),\n",
    "        widgets.HBox([tweets_count]),\n",
    "        widgets.HBox([filename]),\n",
    "        widgets.HBox([directory, browse_button]),\n",
    "        widgets.HBox([start_button]),\n",
    "        widgets.Label(\"Log:\"),\n",
    "        log_output\n",
    "    ])\n",
    "\n",
    "    display(ui)\n",
    "\n",
    "# Execute GUI Creation\n",
    "create_gui()\n"
   ]
  }
 ],
 "metadata": {
  "kernelspec": {
   "display_name": "stern",
   "language": "python",
   "name": "python3"
  },
  "language_info": {
   "codemirror_mode": {
    "name": "ipython",
    "version": 3
   },
   "file_extension": ".py",
   "mimetype": "text/x-python",
   "name": "python",
   "nbconvert_exporter": "python",
   "pygments_lexer": "ipython3",
   "version": "3.12.8"
  }
 },
 "nbformat": 4,
 "nbformat_minor": 5
}
